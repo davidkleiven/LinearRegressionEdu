{
 "cells": [
  {
   "cell_type": "markdown",
   "metadata": {},
   "source": [
    "In data analysis, one often faces the problem of fitting a linear function to a set of data points. \n",
    "![Eq. straing line](img/linear_curve.png)\n",
    "where the coefficients *a* and *b* are to be determined. Let's say we have measured a set of data points,\n",
    "\n",
    "| x | y |\n",
    "|---|---|\n",
    "| 0 | 0.2 |\n",
    "| 1 | 0.39 |\n",
    "| 2 | 0.62 |\n",
    "| 3 | 0.8 |\n",
    "| 4 | 1.04 |\n",
    "| 5 | 1.2 | \n",
    "| 6 | 1.4 | \n",
    "| 7 | 1.6 |\n",
    "\n",
    "and we want to find the coefficients *a* and *b* that fit the data best. In order to do that, we try to minimse the following function\n",
    "![Eq. minimise](img/minimise.png)\n",
    "which is the square of the deviation between the measured data points and the line. \n",
    "Equations for the coefficients can be found by differentiation *S* with respect to *a* and *b* and setting the result to zero\n",
    "![Eq. partial](img/partial_derivative.png)\n",
    "\n",
    "In python, this has already been implemented in the *scipy* module and a simple script to fit a straight line to the datapoints is shown below"
   ]
  },
  {
   "cell_type": "code",
   "execution_count": 10,
   "metadata": {},
   "outputs": [
    {
     "data": {
      "image/png": "[encoded data removed]",
      "text/plain": [
       "<Figure size 432x288 with 1 Axes>"
      ]
     },
     "metadata": {
      "needs_background": "light"
     },
     "output_type": "display_data"
    }
   ],
   "source": [
    "from scipy.stats import linregress   # For performing the curve fitting\n",
    "import numpy as np                   # Useful for array manipulation\n",
    "from matplotlib import pyplot as plt # For plotting the result\n",
    "\n",
    "# We place the data points in two arrays names x and y\n",
    "x = np.array([0, 1, 2, 3, 4, 5, 6, 7])\n",
    "y = np.array([0.2, 0.39, 0.62, 0.8, 1.04, 1.2, 1.4, 1.6])\n",
    "\n",
    "# Fit the data\n",
    "# slope represents a in the equation above\n",
    "# interscept represents b in the equation above\n",
    "# The other values are related to correlations and uncertainty\n",
    "# Full documenation is found here\n",
    "# https://docs.scipy.org/doc/scipy/reference/generated/scipy.stats.linregress.html\n",
    "slope, interscept, rvalue, pvalue, stderr = linregress(x, y)\n",
    "\n",
    "# Create a vector with x-values that is a little bit larger \n",
    "# than the measured valuex\n",
    "x_fit = np.linspace(np.min(x)-1, np.max(x) + 1, 10)\n",
    "\n",
    "# Calculate the y-values for the linear curve\n",
    "y_fit = interscept + slope*x_fit\n",
    "\n",
    "# Plot the results\n",
    "fig = plt.figure()\n",
    "ax = fig.add_subplot(1, 1, 1)\n",
    "\n",
    "# Plot the datapoints with open circles\n",
    "ax.plot(x, y, \"o\", mfc=\"none\", label=\"Data\")\n",
    "ax.plot(x_fit, y_fit, label=\"Fit\")\n",
    "ax.legend(loc=\"best\")\n",
    "ax.set_xlabel(\"x\")\n",
    "ax.set_ylabel(\"y\")\n",
    "plt.show()"
   ]
  },
  {
   "cell_type": "code",
   "execution_count": null,
   "metadata": {},
   "outputs": [],
   "source": []
  },
  {
   "cell_type": "code",
   "execution_count": null,
   "metadata": {},
   "outputs": [],
   "source": []
  }
 ],
 "metadata": {
  "kernelspec": {
   "display_name": "Python 3",
   "language": "python",
   "name": "python3"
  },
  "language_info": {
   "codemirror_mode": {
    "name": "ipython",
    "version": 3
   },
   "file_extension": ".py",
   "mimetype": "text/x-python",
   "name": "python",
   "nbconvert_exporter": "python",
   "pygments_lexer": "ipython3",
   "version": "3.6.7"
  }
 },
 "nbformat": 4,
 "nbformat_minor": 2
}
